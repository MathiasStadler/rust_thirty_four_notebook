{
 "cells": [
  {
   "cell_type": "markdown",
   "metadata": {},
   "source": [
    "#get webpage 'finviz.com' website screener as screen shot headless"
   ]
  },
  {
   "cell_type": "markdown",
   "metadata": {},
   "source": [
    "- open website inside firefox via thirtyfour / tokio"
   ]
  },
  {
   "cell_type": "markdown",
   "metadata": {},
   "source": [
    "- load crates"
   ]
  },
  {
   "cell_type": "code",
   "execution_count": 6,
   "metadata": {
    "vscode": {
     "languageId": "rust"
    }
   },
   "outputs": [],
   "source": [
    ":dep eyre\n",
    ":dep color-eyre = \"0.6.2\"\n",
    ":dep serde_json\n",
    ":dep thirtyfour = \"0.31.0\"\n",
    ":dep tokio = \"1.28.2\""
   ]
  },
  {
   "cell_type": "markdown",
   "metadata": {},
   "source": [
    "- get website title"
   ]
  },
  {
   "cell_type": "code",
   "execution_count": 23,
   "metadata": {
    "vscode": {
     "languageId": "rust"
    }
   },
   "outputs": [],
   "source": [
    "//     cargo run --example tokio_async\n",
    "\n",
    "use thirtyfour::prelude::*;\n",
    "use thirtyfour::{DesiredCapabilities, WebDriver};\n",
    "use thirtyfour::common::capabilities::firefox::*;\n",
    "\n",
    "use tokio::time::*;\n",
    "\n",
    "//pub use common::capabilities::firefox::FirefoxCapabilities;\n",
    "\n",
    "fn call_website() -> color_eyre::Result<()> {\n",
    "    let rt: tokio::runtime::Runtime = tokio::runtime::Builder::new_current_thread().enable_all().build()?;\n",
    "    rt.block_on(run())\n",
    "}\n",
    "\n",
    "async fn run() -> color_eyre::Result<()> {\n",
    "\n",
    "    let target_webpage= String::from(\"https://www.finviz.com\");\n",
    "    let website_title = String::from(\"FINVIZ.com - Stock Screener\");\n",
    "    let gecko_url_port = String::from(\"http://localhost:4444\");\n",
    "\n",
    "    // The use of color_eyre gives much nicer error reports, including making\n",
    "    // it much easier to locate where the error occurred.\n",
    "    color_eyre::install()?;\n",
    "\n",
    "    //https://docs.rs/thirtyfour/0.31.0/thirtyfour/common/capabilities/firefox/struct.FirefoxCapabilities.html\n",
    "    let mut caps: thirtyfour::FirefoxCapabilities = DesiredCapabilities::firefox();\n",
    "    caps.add_firefox_arg(\"MOZ_REMOTE_SETTINGS_DEVTOOLS=1\");\n",
    "    \n",
    "    caps.set_headless();\n",
    "    let log_level:LogLevel = LogLevel::Trace;\n",
    "    caps.set_log_level(log_level);\n",
    "\n",
    "    let driver: WebDriver = WebDriver::new(&gecko_url_port, caps).await?;\n",
    "    \n",
    "    // Navigate to target webpage\n",
    "    driver.goto(target_webpage).await?;\n",
    "    \n",
    "    //wait for loading website 3 sec\n",
    "    tokio::time::sleep(Duration::from_secs(3)).await;\n",
    "\n",
    "    driver.current_url();\n",
    "    assert_eq!(driver.title().await?, website_title);\n",
    "    \n",
    "    // close windows\n",
    "    // `thirtyfour::session::handle::SessionHandle::close`: \n",
    "    // This method has been renamed to close_window()\n",
    "    driver.close_window().await?;\n",
    "\n",
    "\n",
    "    // Always explicitly close the browser. There are no async destructors.\n",
    "    driver.quit().await?;\n",
    "\n",
    "    \n",
    "\n",
    "    //driver.close_window().await?;\n",
    "    //driver.close_window().await?;\n",
    "    Ok(())\n",
    "}"
   ]
  },
  {
   "cell_type": "code",
   "execution_count": 10,
   "metadata": {
    "vscode": {
     "languageId": "rust"
    }
   },
   "outputs": [],
   "source": [
    "call_website();"
   ]
  },
  {
   "cell_type": "markdown",
   "metadata": {},
   "source": [
    "NoScript - prevents the consent banner from loading"
   ]
  }
 ],
 "metadata": {
  "kernelspec": {
   "display_name": "Rust",
   "language": "rust",
   "name": "rust"
  },
  "language_info": {
   "codemirror_mode": "rust",
   "file_extension": ".rs",
   "mimetype": "text/rust",
   "name": "Rust",
   "pygment_lexer": "rust",
   "version": ""
  },
  "orig_nbformat": 4
 },
 "nbformat": 4,
 "nbformat_minor": 2
}
