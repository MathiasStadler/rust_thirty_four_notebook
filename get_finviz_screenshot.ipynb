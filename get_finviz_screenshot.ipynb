{
 "cells": [
  {
   "cell_type": "markdown",
   "metadata": {},
   "source": [
    "#get webpage 'finviz.com' website screener as screen shot headless"
   ]
  },
  {
   "cell_type": "markdown",
   "metadata": {},
   "source": [
    "- open website inside firefox via thirtyfour / tokio"
   ]
  },
  {
   "cell_type": "markdown",
   "metadata": {},
   "source": [
    "- load crates"
   ]
  },
  {
   "cell_type": "code",
   "execution_count": 5,
   "metadata": {
    "vscode": {
     "languageId": "rust"
    }
   },
   "outputs": [],
   "source": [
    ":dep eyre\n",
    ":dep color-eyre = \"0.6.2\"\n",
    ":dep serde_json\n",
    ":dep thirtyfour = \"0.31.0\"\n",
    ":dep tokio = \"1.28.2\""
   ]
  },
  {
   "cell_type": "code",
   "execution_count": 6,
   "metadata": {
    "vscode": {
     "languageId": "rust"
    }
   },
   "outputs": [],
   "source": [
    "//     cargo run --example tokio_async\n",
    "\n",
    "use thirtyfour::prelude::*;\n",
    "use thirtyfour::{DesiredCapabilities, WebDriver};\n",
    "\n",
    "use tokio::time::*;\n",
    "\n",
    "//pub use common::capabilities::firefox::FirefoxCapabilities;\n",
    "\n",
    "fn call_website() -> color_eyre::Result<()> {\n",
    "    let rt: tokio::runtime::Runtime = tokio::runtime::Builder::new_current_thread().enable_all().build()?;\n",
    "    rt.block_on(run())\n",
    "}\n",
    "\n",
    "async fn run() -> color_eyre::Result<()> {\n",
    "    // The use of color_eyre gives much nicer error reports, including making\n",
    "    // it much easier to locate where the error occurred.\n",
    "    color_eyre::install()?;\n",
    "\n",
    "//https://docs.rs/thirtyfour/0.31.0/thirtyfour/common/capabilities/firefox/struct.FirefoxCapabilities.html\n",
    "    let mut caps: thirtyfour::FirefoxCapabilities = DesiredCapabilities::firefox();\n",
    "    caps.add_firefox_arg(\"MOZ_REMOTE_SETTINGS_DEVTOOLS=1\");\n",
    "    caps.set_headless();\n",
    "\n",
    "    let driver: WebDriver = WebDriver::new(\"http://localhost:4444\", caps).await?;\n",
    "    \n",
    "    // Navigate to target webpage\n",
    "    driver.goto(\"https://www.finviz.com\").await?;\n",
    "    \n",
    "    //wait for loading website 3 sec\n",
    "    tokio::time::sleep(Duration::from_secs(3)).await;\n",
    "    \n",
    "    // Always explicitly close the browser. There are no async destructors.\n",
    "    driver.quit().await?;\n",
    "\n",
    "    //driver.close_window().await?;\n",
    "    //driver.close_window().await?;\n",
    "    Ok(())\n",
    "}"
   ]
  },
  {
   "cell_type": "markdown",
   "metadata": {},
   "source": [
    "- check and commit blocker"
   ]
  },
  {
   "cell_type": "code",
   "execution_count": null,
   "metadata": {
    "vscode": {
     "languageId": "rust"
    }
   },
   "outputs": [],
   "source": [
    "//     cargo run --example tokio_async\n",
    "\n",
    "use thirtyfour::prelude::*;\n",
    "use thirtyfour::{DesiredCapabilities, WebDriver};\n",
    "\n",
    "use tokio::time::*;\n",
    "\n",
    "//pub use common::capabilities::firefox::FirefoxCapabilities;\n",
    "\n",
    "fn call_website() -> color_eyre::Result<()> {\n",
    "    let rt: tokio::runtime::Runtime = tokio::runtime::Builder::new_current_thread().enable_all().build()?;\n",
    "    rt.block_on(run())\n",
    "}\n",
    "\n",
    "async fn run() -> color_eyre::Result<()> {\n",
    "    // The use of color_eyre gives much nicer error reports, including making\n",
    "    // it much easier to locate where the error occurred.\n",
    "    color_eyre::install()?;\n",
    "\n",
    "//https://docs.rs/thirtyfour/0.31.0/thirtyfour/common/capabilities/firefox/struct.FirefoxCapabilities.html\n",
    "    let mut caps: thirtyfour::FirefoxCapabilities = DesiredCapabilities::firefox();\n",
    "    caps.add_firefox_arg(\"MOZ_REMOTE_SETTINGS_DEVTOOLS=1\");\n",
    "    caps.set_headless();\n",
    "\n",
    "    let driver: WebDriver = WebDriver::new(\"http://localhost:4444\", caps).await?;\n",
    "    \n",
    "    // Navigate to target webpage\n",
    "    driver.goto(\"https://www.finviz.com\").await?;\n",
    "    \n",
    "    //wait for loading website 3 sec\n",
    "    tokio::time::sleep(Duration::from_secs(3)).await;\n",
    "    \n",
    "    // Always explicitly close the browser. There are no async destructors.\n",
    "    driver.quit().await?;\n",
    "\n",
    "    //driver.close_window().await?;\n",
    "    //driver.close_window().await?;\n",
    "    Ok(())\n",
    "}"
   ]
  },
  {
   "cell_type": "code",
   "execution_count": 7,
   "metadata": {
    "vscode": {
     "languageId": "rust"
    }
   },
   "outputs": [],
   "source": [
    "call_website();"
   ]
  }
 ],
 "metadata": {
  "kernelspec": {
   "display_name": "Rust",
   "language": "rust",
   "name": "rust"
  },
  "language_info": {
   "codemirror_mode": "rust",
   "file_extension": ".rs",
   "mimetype": "text/rust",
   "name": "Rust",
   "pygment_lexer": "rust",
   "version": ""
  },
  "orig_nbformat": 4
 },
 "nbformat": 4,
 "nbformat_minor": 2
}
