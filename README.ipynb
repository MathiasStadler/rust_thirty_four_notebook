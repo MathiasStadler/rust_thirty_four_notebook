{
 "cells": [
  {
   "cell_type": "markdown",
   "metadata": {},
   "source": [
    "- [FROM HERE](https://discourse.jupyter.org/t/how-to-run-a-notebook-using-command-line/3475)\n",
    "\n",
    "-- Executing notebooks from the command line. The same functionality of executing notebooks is exposed through a command line interface or a Python API interface. As an example, a notebook can be executed from the command line with:\n",
    "\n",
    "-- jupyter nbconvert --to notebook --execute mynotebook.ipynb\n",
    "\n"
   ]
  },
  {
   "cell_type": "markdown",
   "metadata": {},
   "source": [
    "- install gecko driver for FIREFOX Browser"
   ]
  },
  {
   "cell_type": "markdown",
   "metadata": {},
   "source": [
    "[FROM HERE](https://askubuntu.com/questions/870530/how-to-install-geckodriver-in-ubuntu)\n",
    "\n",
    "# Here are the steps:\n",
    "\n",
    "- Go to the geckodriver releases page. Find the latest version of the driver for your platform and download it. For example:\n",
    "\n",
    "```bash echo```\n",
    "\n",
    "\n",
    "```bash wget https://github.com/mozilla/geckodriver/releases/download/v0.24.0/geckodriver-v0.24.0-linux64.tar.gz```\n",
    "\n",
    "- Extract the file with:\n",
    "\n",
    "```bash tar -xvzf geckodriver*```\n",
    "\n",
    "- Make it executable:\n",
    "\n",
    "```chmod +x geckodriver```\n",
    "\n",
    "## Add the driver to your PATH so other tools can find it:\n",
    "\n",
    "``` export PATH=$PATH:/path-to-extracted-file/.```\n",
    "\n",
    "## There are many ways to do this that will work. The above works for me on Ubuntu 22.10 64-bit.\n"
   ]
  },
  {
   "cell_type": "markdown",
   "metadata": {},
   "source": [
    "- on ubuntu >22 can you snap firefox"
   ]
  },
  {
   "cell_type": "markdown",
   "metadata": {},
   "source": [
    "- start firefox in your system\n",
    "- start gecko driver inside a terminal\n",
    "- $ geckodriver\n",
    "- output -> 1695283652072   geckodriver     INFO    Listening on 127.0.0.1:4444- "
   ]
  },
  {
   "cell_type": "markdown",
   "metadata": {},
   "source": [
    "- load crates"
   ]
  },
  {
   "cell_type": "code",
   "execution_count": 35,
   "metadata": {
    "vscode": {
     "languageId": "rust"
    }
   },
   "outputs": [],
   "source": [
    ":dep eyre\n",
    ":dep color-eyre = \"0.6.2\"\n",
    ":dep serde_json\n",
    ":dep thirtyfour = \"0.31.0\"\n",
    ":dep tokio = \"1.28.2\""
   ]
  },
  {
   "cell_type": "markdown",
   "metadata": {},
   "source": [
    "- write first test"
   ]
  },
  {
   "cell_type": "code",
   "execution_count": 41,
   "metadata": {
    "vscode": {
     "languageId": "rust"
    }
   },
   "outputs": [],
   "source": [
    "use thirtyfour::prelude::*;\n",
    "use thirtyfour::{DesiredCapabilities, WebDriver};\n",
    "\n",
    "\n",
    "\n",
    "#[tokio::main]\n",
    "async fn second_test() -> WebDriverResult<()> {\n",
    "    let caps: thirtyfour::FirefoxCapabilities = DesiredCapabilities::firefox();\n",
    "    let driver: WebDriver = WebDriver::new(\"http://localhost:4444\", caps).await.expect(\"failed to connect to WebDriver\");\n",
    "\n",
    "    // Navigate to https://wikipedia.org.\n",
    "    driver.goto(\"https://wikipedia.org\").await?;\n",
    "    let elem_form: WebElement = driver.find(By::Id(\"search-form\")).await?;\n",
    "\n",
    "    // Find element from element.\n",
    "    let elem_text: WebElement = elem_form.find(By::Id(\"searchInput\")).await?;\n",
    "\n",
    "    // Type in the search terms.\n",
    "    elem_text.send_keys(\"selenium\").await?;\n",
    "\n",
    "    // Click the search button.\n",
    "    let elem_button: WebElement = elem_form.find(By::Css(\"button[type='submit']\")).await?;\n",
    "    elem_button.click().await?;\n",
    "\n",
    "    // Look for header to implicitly wait for the page to load.\n",
    "    driver.find(By::ClassName(\"firstHeading\")).await?;\n",
    "    assert_eq!(driver.title().await?, \"Selenium - Wikipedia\");\n",
    "\n",
    "    // Always explicitly close the browser.\n",
    "    driver.quit().await?;\n",
    "\n",
    "    Ok(())\n",
    "}"
   ]
  },
  {
   "cell_type": "code",
   "execution_count": 42,
   "metadata": {
    "vscode": {
     "languageId": "rust"
    }
   },
   "outputs": [],
   "source": [
    "second_test();"
   ]
  },
  {
   "cell_type": "markdown",
   "metadata": {},
   "source": [
    "- firefox basic example"
   ]
  },
  {
   "cell_type": "code",
   "execution_count": 56,
   "metadata": {
    "vscode": {
     "languageId": "rust"
    }
   },
   "outputs": [],
   "source": [
    "\n",
    "//     cargo run --example tokio_async\n",
    "\n",
    "use thirtyfour::prelude::*;\n",
    "use thirtyfour::{DesiredCapabilities, WebDriver};\n",
    "\n",
    "//pub use common::capabilities::firefox::FirefoxCapabilities;\n",
    "\n",
    "fn firefox_sample_thee() -> color_eyre::Result<()> {\n",
    "    let rt: tokio::runtime::Runtime = tokio::runtime::Builder::new_current_thread().enable_all().build()?;\n",
    "    rt.block_on(run())\n",
    "}\n",
    "\n",
    "async fn run() -> color_eyre::Result<()> {\n",
    "    // The use of color_eyre gives much nicer error reports, including making\n",
    "    // it much easier to locate where the error occurred.\n",
    "    color_eyre::install()?;\n",
    "\n",
    "//https://docs.rs/thirtyfour/0.31.0/thirtyfour/common/capabilities/firefox/struct.FirefoxCapabilities.html\n",
    "    let mut caps: thirtyfour::FirefoxCapabilities = DesiredCapabilities::firefox();\n",
    "    caps.add_firefox_arg(\"MOZ_REMOTE_SETTINGS_DEVTOOLS=1\");\n",
    "    caps.set_headless();\n",
    "    \n",
    "    \n",
    "\n",
    "\n",
    "\n",
    "    let driver: WebDriver = WebDriver::new(\"http://localhost:4444\", caps).await?;\n",
    "    \n",
    "    // Navigate to https://wikipedia.org.\n",
    "    driver.goto(\"https://wikipedia.org\").await?;\n",
    "    \n",
    "    let elem_form: WebElement = driver.find(By::Id(\"search-form\")).await?;\n",
    "\n",
    "    // Find element from element.\n",
    "    let elem_text: WebElement = elem_form.find(By::Id(\"searchInput\")).await?;\n",
    "\n",
    "    // Type in the search terms.\n",
    "    elem_text.send_keys(\"rust\").await?;\n",
    "\n",
    "    // Click the search button.\n",
    "    let elem_button: WebElement = elem_form.find(By::Css(\"button[type='submit']\")).await?;\n",
    "    elem_button.click().await?;\n",
    "\n",
    "    // Look for header to implicitly wait for the page to load.\n",
    "    driver.find(By::ClassName(\"firstHeading\")).await?;\n",
    "    assert_eq!(driver.title().await?, \"Rust error– Wikipedia\");\n",
    "\n",
    "    // Always explicitly close the browser. There are no async destructors.\n",
    "    driver.quit().await?;\n",
    "\n",
    "    //driver.close_window().await?;\n",
    "    //driver.close_window().await?;\n",
    "    Ok(())\n",
    "}\n"
   ]
  },
  {
   "cell_type": "code",
   "execution_count": 58,
   "metadata": {
    "vscode": {
     "languageId": "rust"
    }
   },
   "outputs": [
    {
     "name": "stderr",
     "output_type": "stream",
     "text": [
      "\u001b[31mThe application panicked (crashed).\u001b[0m\n",
      "Message:  \u001b[36massertion failed: `(left == right)`\n",
      "  left: `\"Rust - Wikipedia\"`,\n",
      " right: `\"Rust error– Wikipedia\"`\u001b[0m\n",
      "Location: \u001b[35msrc/lib.rs\u001b[0m:\u001b[35m94\u001b[0m\n",
      "\n",
      "  ━━━━━━━━━━━━━━━━━━━━━━━━━━━━━━━━━━ BACKTRACE ━━━━━━━━━━━━━━━━━━━━━━━━━━━━━━━━━━━\n",
      "  \u001b[96m                              ⋮ 8 frames hidden ⋮                               \u001b[0m\n",
      "   9: \u001b[32mcore::panicking::assert_failed_inner\u001b[0m\u001b[90m::hdcf25e9f37bb1a8f\u001b[0m\n",
      "      at \u001b[35m/rustc/5680fa18feaa87f3ff04063800aec256c3d4b4be/library/core/src/panicking.rs\u001b[0m:\u001b[35m<unknown line>\u001b[0m\n",
      "  10: \u001b[32mcore::panicking::assert_failed\u001b[0m\u001b[90m::h45bd248dfa559646\u001b[0m\n",
      "      at \u001b[35m<unknown source file>\u001b[0m:\u001b[35m<unknown line>\u001b[0m\n",
      "  11: \u001b[91mctx::run::{{closure}}\u001b[0m\u001b[90m::h2ead1e8a783ad9dd\u001b[0m\n",
      "      at \u001b[35m<unknown source file>\u001b[0m:\u001b[35m<unknown line>\u001b[0m\n",
      "  12: \u001b[91mtokio::runtime::scheduler::current_thread::Context::enter\u001b[0m\u001b[90m::h3e6f3acabe5a7222\u001b[0m\n",
      "      at \u001b[35m<unknown source file>\u001b[0m:\u001b[35m<unknown line>\u001b[0m\n",
      "  13: \u001b[91mtokio::runtime::context::scoped::Scoped<T>::set\u001b[0m\u001b[90m::ha88829097fbfb2b2\u001b[0m\n",
      "      at \u001b[35m<unknown source file>\u001b[0m:\u001b[35m<unknown line>\u001b[0m\n",
      "  14: \u001b[91mtokio::runtime::context::set_scheduler\u001b[0m\u001b[90m::h7e8b5b57110ec696\u001b[0m\n",
      "      at \u001b[35m<unknown source file>\u001b[0m:\u001b[35m<unknown line>\u001b[0m\n",
      "  15: \u001b[91mtokio::runtime::scheduler::current_thread::CoreGuard::block_on\u001b[0m\u001b[90m::hdc0b4cfb7b4c9e2e\u001b[0m\n",
      "      at \u001b[35m<unknown source file>\u001b[0m:\u001b[35m<unknown line>\u001b[0m\n",
      "  16: \u001b[91mtokio::runtime::context::runtime::enter_runtime\u001b[0m\u001b[90m::h964ce11943529ad9\u001b[0m\n",
      "      at \u001b[35m<unknown source file>\u001b[0m:\u001b[35m<unknown line>\u001b[0m\n",
      "  17: \u001b[91mctx::firefox_sample_thee\u001b[0m\u001b[90m::h874288ab2d496e92\u001b[0m\n",
      "      at \u001b[35m<unknown source file>\u001b[0m:\u001b[35m<unknown line>\u001b[0m\n",
      "  18: \u001b[91mrun_user_code_29\u001b[0m\u001b[90m<unknown>\u001b[0m\n",
      "      at \u001b[35m<unknown source file>\u001b[0m:\u001b[35m<unknown line>\u001b[0m\n",
      "  19: \u001b[91mevcxr::runtime::Runtime::run_loop\u001b[0m\u001b[90m::h0b5cc19f3c4fe5fb\u001b[0m\n",
      "      at \u001b[35m<unknown source file>\u001b[0m:\u001b[35m<unknown line>\u001b[0m\n",
      "  20: \u001b[91mevcxr::runtime::runtime_hook\u001b[0m\u001b[90m::h396c1005432a74a6\u001b[0m\n",
      "      at \u001b[35m<unknown source file>\u001b[0m:\u001b[35m<unknown line>\u001b[0m\n",
      "  21: \u001b[91mevcxr_jupyter::main\u001b[0m\u001b[90m::h01ed0cc7a1f62a8f\u001b[0m\n",
      "      at \u001b[35m<unknown source file>\u001b[0m:\u001b[35m<unknown line>\u001b[0m\n",
      "  22: \u001b[32mstd::sys_common::backtrace::__rust_begin_short_backtrace\u001b[0m\u001b[90m::hc8c4823d890b53f8\u001b[0m\n",
      "      at \u001b[35m<unknown source file>\u001b[0m:\u001b[35m<unknown line>\u001b[0m\n",
      "  23: \u001b[32mstd::rt::lang_start::{{closure}}\u001b[0m\u001b[90m::hbd21307a846ce4fb\u001b[0m\n",
      "      at \u001b[35m<unknown source file>\u001b[0m:\u001b[35m<unknown line>\u001b[0m\n",
      "  24: \u001b[32mcore::ops::function::impls::<impl core::ops::function::FnOnce<A> for &F>::call_once\u001b[0m\u001b[90m::h75ba4244a1c7bb54\u001b[0m\n",
      "      at \u001b[35m/rustc/5680fa18feaa87f3ff04063800aec256c3d4b4be/library/core/src/ops/function.rs\u001b[0m:\u001b[35m284\u001b[0m\n",
      "  25: \u001b[32mstd::panicking::try::do_call\u001b[0m\u001b[90m::h0a2baa36dea975a1\u001b[0m\n",
      "      at \u001b[35m/rustc/5680fa18feaa87f3ff04063800aec256c3d4b4be/library/std/src/panicking.rs\u001b[0m:\u001b[35m500\u001b[0m\n",
      "  26: \u001b[32mstd::panicking::try\u001b[0m\u001b[90m::h0e42aa233d4224d4\u001b[0m\n",
      "      at \u001b[35m/rustc/5680fa18feaa87f3ff04063800aec256c3d4b4be/library/std/src/panicking.rs\u001b[0m:\u001b[35m464\u001b[0m\n",
      "  27: \u001b[32mstd::panic::catch_unwind\u001b[0m\u001b[90m::hefdfd8f482606434\u001b[0m\n",
      "      at \u001b[35m/rustc/5680fa18feaa87f3ff04063800aec256c3d4b4be/library/std/src/panic.rs\u001b[0m:\u001b[35m142\u001b[0m\n",
      "  28: \u001b[32mstd::rt::lang_start_internal::{{closure}}\u001b[0m\u001b[90m::h457959f0f91da23b\u001b[0m\n",
      "      at \u001b[35m/rustc/5680fa18feaa87f3ff04063800aec256c3d4b4be/library/std/src/rt.rs\u001b[0m:\u001b[35m148\u001b[0m\n",
      "  29: \u001b[32mstd::panicking::try::do_call\u001b[0m\u001b[90m::h112cfd1acb38183b\u001b[0m\n",
      "      at \u001b[35m/rustc/5680fa18feaa87f3ff04063800aec256c3d4b4be/library/std/src/panicking.rs\u001b[0m:\u001b[35m500\u001b[0m\n",
      "  30: \u001b[32mstd::panicking::try\u001b[0m\u001b[90m::ha64f15b20cec18ca\u001b[0m\n",
      "      at \u001b[35m/rustc/5680fa18feaa87f3ff04063800aec256c3d4b4be/library/std/src/panicking.rs\u001b[0m:\u001b[35m464\u001b[0m\n",
      "  31: \u001b[32mstd::panic::catch_unwind\u001b[0m\u001b[90m::hbacc2b68ee2c119e\u001b[0m\n",
      "      at \u001b[35m/rustc/5680fa18feaa87f3ff04063800aec256c3d4b4be/library/std/src/panic.rs\u001b[0m:\u001b[35m142\u001b[0m\n",
      "  32: \u001b[32mstd::rt::lang_start_internal\u001b[0m\u001b[90m::h5f408694586c2a05\u001b[0m\n",
      "      at \u001b[35m/rustc/5680fa18feaa87f3ff04063800aec256c3d4b4be/library/std/src/rt.rs\u001b[0m:\u001b[35m148\u001b[0m\n",
      "  33: \u001b[32mmain\u001b[0m\u001b[90m<unknown>\u001b[0m\n",
      "      at \u001b[35m<unknown source file>\u001b[0m:\u001b[35m<unknown line>\u001b[0m\n",
      "  34: \u001b[91m__libc_start_call_main\u001b[0m\u001b[90m<unknown>\u001b[0m\n",
      "      at \u001b[35m./csu/../sysdeps/nptl/libc_start_call_main.h\u001b[0m:\u001b[35m58\u001b[0m\n",
      "  35: \u001b[32m__libc_start_main_impl\u001b[0m\u001b[90m<unknown>\u001b[0m\n",
      "      at \u001b[35m./csu/../csu/libc-start.c\u001b[0m:\u001b[35m392\u001b[0m\n",
      "  36: \u001b[32m_start\u001b[0m\u001b[90m<unknown>\u001b[0m\n",
      "      at \u001b[35m<unknown source file>\u001b[0m:\u001b[35m<unknown line>\u001b[0m\n",
      "\n",
      "Run with COLORBT_SHOW_HIDDEN=1 environment variable to disable frame filtering.\n",
      "Run with RUST_BACKTRACE=full to include source snippets.\n"
     ]
    }
   ],
   "source": [
    "firefox_sample_thee();"
   ]
  }
 ],
 "metadata": {
  "kernelspec": {
   "display_name": "Rust",
   "language": "rust",
   "name": "rust"
  },
  "language_info": {
   "codemirror_mode": "rust",
   "file_extension": ".rs",
   "mimetype": "text/rust",
   "name": "Rust",
   "pygment_lexer": "rust",
   "version": ""
  },
  "orig_nbformat": 4
 },
 "nbformat": 4,
 "nbformat_minor": 2
}
