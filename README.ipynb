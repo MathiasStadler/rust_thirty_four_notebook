{
 "cells": [
  {
   "cell_type": "markdown",
   "metadata": {},
   "source": [
    "- [FROM HERE](https://discourse.jupyter.org/t/how-to-run-a-notebook-using-command-line/3475)\n",
    "\n",
    "-- Executing notebooks from the command line. The same functionality of executing notebooks is exposed through a command line interface or a Python API interface. As an example, a notebook can be executed from the command line with:\n",
    "\n",
    "-- jupyter nbconvert --to notebook --execute mynotebook.ipynb\n",
    "\n"
   ]
  },
  {
   "cell_type": "markdown",
   "metadata": {},
   "source": [
    "- install gecko driver for FIREFOX Browser"
   ]
  },
  {
   "cell_type": "markdown",
   "metadata": {},
   "source": [
    "[FROM HERE](https://askubuntu.com/questions/870530/how-to-install-geckodriver-in-ubuntu)\n",
    "\n",
    "# Here are the steps:\n",
    "\n",
    "- Go to the geckodriver releases page. Find the latest version of the driver for your platform and download it. For example:\n",
    "\n",
    "```bash echo```\n",
    "\n",
    "\n",
    "```bash wget https://github.com/mozilla/geckodriver/releases/download/v0.24.0/geckodriver-v0.24.0-linux64.tar.gz```\n",
    "\n",
    "- Extract the file with:\n",
    "\n",
    "```bash tar -xvzf geckodriver*```\n",
    "\n",
    "- Make it executable:\n",
    "\n",
    "```chmod +x geckodriver```\n",
    "\n",
    "## Add the driver to your PATH so other tools can find it:\n",
    "\n",
    "``` export PATH=$PATH:/path-to-extracted-file/.```\n",
    "\n",
    "## There are many ways to do this that will work. The above works for me on Ubuntu 22.10 64-bit.\n"
   ]
  },
  {
   "cell_type": "markdown",
   "metadata": {},
   "source": [
    "- on ubuntu >22 can you snap firefox"
   ]
  },
  {
   "cell_type": "markdown",
   "metadata": {},
   "source": [
    "- start firefox in your system\n",
    "- start gecko driver inside a terminal\n",
    "- $ geckodriver\n",
    "- output -> 1695283652072   geckodriver     INFO    Listening on 127.0.0.1:4444- "
   ]
  },
  {
   "cell_type": "markdown",
   "metadata": {},
   "source": [
    "- load crates"
   ]
  },
  {
   "cell_type": "code",
   "execution_count": 35,
   "metadata": {
    "vscode": {
     "languageId": "rust"
    }
   },
   "outputs": [],
   "source": [
    ":dep eyre\n",
    ":dep color-eyre = \"0.6.2\"\n",
    ":dep serde_json\n",
    ":dep thirtyfour = \"0.31.0\"\n",
    ":dep tokio = \"1.28.2\""
   ]
  },
  {
   "cell_type": "markdown",
   "metadata": {},
   "source": [
    "- write first test"
   ]
  },
  {
   "cell_type": "code",
   "execution_count": 32,
   "metadata": {
    "vscode": {
     "languageId": "rust"
    }
   },
   "outputs": [
    {
     "ename": "Error",
     "evalue": "unresolved import `eyre`",
     "output_type": "error",
     "traceback": [
      "\u001b[31m[E0432] Error:\u001b[0m unresolved import `eyre`"
     ]
    }
   ],
   "source": [
    "use thirtyfour::prelude::*;\n",
    "use thirtyfour::{DesiredCapabilities, WebDriver};\n",
    "use eyre::*;\n",
    "\n",
    "\n",
    "#[tokio::main]\n",
    "async fn second_test() -> WebDriverResult<()> {\n",
    "    let caps: thirtyfour::FirefoxCapabilities = DesiredCapabilities::firefox();\n",
    "    let driver: WebDriver = WebDriver::new(\"http://localhost:4444\", caps).await.expect(\"failed to connect to WebDriver\");\n",
    "\n",
    "    // Navigate to https://wikipedia.org.\n",
    "    driver.goto(\"https://wikipedia.org\").await?;\n",
    "    let elem_form: WebElement = driver.find(By::Id(\"search-form\")).await?;\n",
    "\n",
    "    // Find element from element.\n",
    "    let elem_text: WebElement = elem_form.find(By::Id(\"searchInput\")).await?;\n",
    "\n",
    "    // Type in the search terms.\n",
    "    elem_text.send_keys(\"selenium\").await?;\n",
    "\n",
    "    // Click the search button.\n",
    "    let elem_button: WebElement = elem_form.find(By::Css(\"button[type='submit']\")).await?;\n",
    "    elem_button.click().await?;\n",
    "\n",
    "    // Look for header to implicitly wait for the page to load.\n",
    "    driver.find(By::ClassName(\"firstHeading\")).await?;\n",
    "    assert_eq!(driver.title().await?, \"Selenium - Wikipedia\");\n",
    "\n",
    "    // Always explicitly close the browser.\n",
    "    driver.quit().await?;\n",
    "\n",
    "    Ok(())\n",
    "}\n",
    "\n",
    "\n"
   ]
  },
  {
   "cell_type": "code",
   "execution_count": 27,
   "metadata": {
    "vscode": {
     "languageId": "rust"
    }
   },
   "outputs": [],
   "source": [
    "second_test();"
   ]
  },
  {
   "cell_type": "markdown",
   "metadata": {},
   "source": [
    "- explore tokio"
   ]
  }
 ],
 "metadata": {
  "kernelspec": {
   "display_name": "Rust",
   "language": "rust",
   "name": "rust"
  },
  "language_info": {
   "codemirror_mode": "rust",
   "file_extension": ".rs",
   "mimetype": "text/rust",
   "name": "Rust",
   "pygment_lexer": "rust",
   "version": ""
  },
  "orig_nbformat": 4
 },
 "nbformat": 4,
 "nbformat_minor": 2
}
