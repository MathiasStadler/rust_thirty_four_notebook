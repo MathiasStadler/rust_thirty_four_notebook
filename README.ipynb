{
 "cells": [
  {
   "cell_type": "markdown",
   "metadata": {},
   "source": [
    "{FROM HERE](https://discourse.jupyter.org/t/how-to-run-a-notebook-using-command-line/3475)}\n",
    "\n",
    "    Executing notebooks from the command line\n",
    "    The same functionality of executing notebooks is exposed through a command line interface or a Python API interface. As an example, a notebook can be executed from the command line with:\n",
    "\n",
    "    jupyter nbconvert --to notebook --execute mynotebook.ipynb\n",
    "\n"
   ]
  },
  {
   "cell_type": "markdown",
   "metadata": {},
   "source": [
    "# install gecko driver for FIREFOX Browser"
   ]
  },
  {
   "cell_type": "markdown",
   "metadata": {},
   "source": [
    "[FROM HERE](https://askubuntu.com/questions/870530/how-to-install-geckodriver-in-ubuntu)\n",
    "\n",
    "# Here are the steps:\n",
    "\n",
    "## Go to the geckodriver releases page. Find the latest version of the driver for your platform and download it. For example:\n",
    "\n",
    "```bash echo```\n",
    "\n",
    "\n",
    "```bash wget https://github.com/mozilla/geckodriver/releases/download/v0.24.0/geckodriver-v0.24.0-linux64.tar.gz```\n",
    "\n",
    "## Extract the file with:\n",
    "\n",
    "``` tar -xvzf geckodriver*```\n",
    "\n",
    "## Make it executable:\n",
    "\n",
    "```chmod +x geckodriver```\n",
    "\n",
    "## Add the driver to your PATH so other tools can find it:\n",
    "\n",
    "``` export PATH=$PATH:/path-to-extracted-file/.```\n",
    "\n",
    "## There are many ways to do this that will work. The above works for me on Ubuntu 22.10 64-bit.\n"
   ]
  }
 ],
 "metadata": {
  "language_info": {
   "name": "python"
  },
  "orig_nbformat": 4
 },
 "nbformat": 4,
 "nbformat_minor": 2
}
